{
  "nbformat": 4,
  "nbformat_minor": 0,
  "metadata": {
    "colab": {
      "name": "Lect1.ipynb",
      "provenance": [],
      "collapsed_sections": [],
      "authorship_tag": "ABX9TyM0EKXahs6nH9ddk5B5CMqC",
      "include_colab_link": true
    },
    "kernelspec": {
      "name": "python3",
      "display_name": "Python 3"
    }
  },
  "cells": [
    {
      "cell_type": "markdown",
      "metadata": {
        "id": "view-in-github",
        "colab_type": "text"
      },
      "source": [
        "<a href=\"https://colab.research.google.com/github/jimkliew/EIPs/blob/master/Lect1.ipynb\" target=\"_parent\"><img src=\"https://colab.research.google.com/assets/colab-badge.svg\" alt=\"Open In Colab\"/></a>"
      ]
    },
    {
      "cell_type": "markdown",
      "metadata": {
        "id": "kjbcfqVRJZ33",
        "colab_type": "text"
      },
      "source": [
        "## Learning Objectives\n",
        "\n",
        "1. Install Google Colab\n",
        "2. Intro to Jupyter Notebook\n",
        "3. Intro to Python\n",
        "  *   variables\n",
        "  *   lists\n",
        "  *   loops\n",
        "  *   functions\n",
        "4. Useful Python Libraries\n",
        "  * Pandas\n",
        "  * Numpy\n",
        "  * Maplotlib, Seanborn, and Altair\n",
        "5. Activation Functions\n",
        "  * Sigmoid\n",
        "  * Hyperbolic tangent\n",
        "  * Rectified Linear Unit (ReLu)\n",
        "\n",
        "6. Assignment #1\n",
        "\n"
      ]
    },
    {
      "cell_type": "markdown",
      "metadata": {
        "id": "6XDEZJOtLj2v",
        "colab_type": "text"
      },
      "source": [
        "\n",
        "**1. Google Colab:**\n",
        "\n",
        "Google Colab is short for Google Research colabortory. Colab allows anyone to write and execute Python code freely through their internet browser. Colab runs on the cloud. Users employ Jupyter notebooks which are ideal for teaching data analysis, machine learing and AI.\n",
        "\n",
        "With Colab users can save and share their notebooks and access powerful computing resources, all for free. Each Colab session is equipped with a virtual machine running 13 GB of RAM and either a CPU, GPU, or TPU processor.\n",
        "\n",
        "This 3-minute video gives an overview of the key features of Colaboratory:\n"
      ]
    },
    {
      "cell_type": "code",
      "metadata": {
        "id": "mmJXyqYrJX3q",
        "colab_type": "code",
        "outputId": "789f9cec-48a0-4d85-ba01-75e2b7d464c2",
        "colab": {
          "base_uri": "https://localhost:8080/",
          "height": 336
        }
      },
      "source": [
        "from IPython.display import HTML\n",
        "\n",
        "HTML('<iframe width=\"560\" height=\"315\" src=\"https://www.youtube.com/embed/inN8seMm7UI\" frameborder=\"0\" allow=\"accelerometer; autoplay; encrypted-media; gyroscope; picture-in-picture\" allowfullscreen></iframe>')\n",
        "\n"
      ],
      "execution_count": 0,
      "outputs": [
        {
          "output_type": "execute_result",
          "data": {
            "text/html": [
              "<iframe width=\"560\" height=\"315\" src=\"https://www.youtube.com/embed/inN8seMm7UI\" frameborder=\"0\" allow=\"accelerometer; autoplay; encrypted-media; gyroscope; picture-in-picture\" allowfullscreen></iframe>"
            ],
            "text/plain": [
              "<IPython.core.display.HTML object>"
            ]
          },
          "metadata": {
            "tags": []
          },
          "execution_count": 1
        }
      ]
    },
    {
      "cell_type": "markdown",
      "metadata": {
        "id": "FOLKGNZLM0lG",
        "colab_type": "text"
      },
      "source": [
        "Google Colab is not a static web-page, but an interactive environment that let's you write and execute Python code as well as other languages (e.g. R and Swift).\n",
        "\n",
        "For example, here is a code cell with a short Python script that computes a value, stores it in a variable, and prints the result:"
      ]
    },
    {
      "cell_type": "markdown",
      "metadata": {
        "id": "WCSUiw9GOTN_",
        "colab_type": "text"
      },
      "source": [
        "**1. Variables**\n",
        "\n",
        "Store values in a reserved memory location.\n",
        "\n",
        "Variable have types.\n",
        "\n",
        "*Helpers* -- [Python Variables](https://www.tutorialspoint.com/python/python_variable_types.htm) [More PY Variables](https://www.learnpython.org/en/Variables_and_Types)"
      ]
    },
    {
      "cell_type": "code",
      "metadata": {
        "id": "Lu_IUl26L9Yv",
        "colab_type": "code",
        "colab": {}
      },
      "source": [
        "seconds_in_a_day = 24 * 60 * 60\n",
        "print(seconds_in_a_day)"
      ],
      "execution_count": 0,
      "outputs": []
    },
    {
      "cell_type": "markdown",
      "metadata": {
        "id": "KbNRy7BSNEpe",
        "colab_type": "text"
      },
      "source": [
        "## Exercise 1: How many seconds will you be in Prof Liew's class?\n",
        "Assume that there are 8 classes in total."
      ]
    },
    {
      "cell_type": "code",
      "metadata": {
        "id": "OyGgv2BpNGrP",
        "colab_type": "code",
        "colab": {}
      },
      "source": [
        "nos_of_classes = 8\n",
        "hours_in_one_class = 3\n",
        "seconds_in_one_hour = 60*60\n",
        "\n",
        "total_seconds_with_Prof_Liew = nos_of_classes*hours_in_one_class*seconds_in_one_hour\n",
        "\n",
        "print(total_seconds_with_Prof_Liew)"
      ],
      "execution_count": 0,
      "outputs": []
    },
    {
      "cell_type": "markdown",
      "metadata": {
        "id": "L8fxVgCbNBUm",
        "colab_type": "text"
      },
      "source": [
        "Some commone types of variables are below:"
      ]
    },
    {
      "cell_type": "code",
      "metadata": {
        "id": "M33kIgsmO-LZ",
        "colab_type": "code",
        "colab": {}
      },
      "source": [
        "a = 51\n",
        "b = 202.52\n",
        "c = 'Hello Professor Liew\\'s world!'\n",
        "\n",
        "print(type(a), type(b), type(c))\n",
        "print(a,b,c)"
      ],
      "execution_count": 0,
      "outputs": []
    },
    {
      "cell_type": "markdown",
      "metadata": {
        "id": "4Ou8PzlDQOao",
        "colab_type": "text"
      },
      "source": [
        "Exercise 2: \n",
        "Create three variables: \n",
        "age, money, and your favorite motto. Assign a value to each of three types: integer, float, and string.  \n",
        "\n",
        "1.   age\n",
        "2.   money\n",
        "3.   motto\n",
        "\n",
        "Print their types and print their values."
      ]
    },
    {
      "cell_type": "code",
      "metadata": {
        "id": "kTv0Q7U-O_eJ",
        "colab_type": "code",
        "colab": {}
      },
      "source": [
        "# Put answer here"
      ],
      "execution_count": 0,
      "outputs": []
    },
    {
      "cell_type": "markdown",
      "metadata": {
        "id": "U88Wv1wBSWHg",
        "colab_type": "text"
      },
      "source": [
        "**2. Lists**\n",
        "\n",
        "The most basic data structure in Python is a List. Which holds values in a sequence.\n",
        "\n",
        "*Helpers* -- [Python Lists](https://www.tutorialspoint.com/python/python_lists.htm) [More PY Lists](https://www.learnpython.org/en/Lists)\n",
        "\n",
        "Careful Python starts to index at 0, not 1."
      ]
    },
    {
      "cell_type": "code",
      "metadata": {
        "id": "E57K9Q0HPCJR",
        "colab_type": "code",
        "colab": {}
      },
      "source": [
        "x = ['a','b','c']\n",
        "y = [4.0, 3.0, 2.0, 1.0, 0.0]\n",
        "\n",
        "print(x[0], y[0])"
      ],
      "execution_count": 0,
      "outputs": []
    },
    {
      "cell_type": "markdown",
      "metadata": {
        "id": "zUcNS0emfF70",
        "colab_type": "text"
      },
      "source": [
        "##Excercise 2: Print out the first and last element in each list. Can you print out all the elements in the list using a loop? "
      ]
    },
    {
      "cell_type": "code",
      "metadata": {
        "id": "ufOvvrIpbY3Y",
        "colab_type": "code",
        "colab": {}
      },
      "source": [
        "print(x[-1], y[-1])\n",
        "print(x[2], y[4])\n",
        "print(x[:1],y[:1])"
      ],
      "execution_count": 0,
      "outputs": []
    },
    {
      "cell_type": "code",
      "metadata": {
        "id": "AW755ulIfXVc",
        "colab_type": "code",
        "colab": {}
      },
      "source": [
        "for j in x:\n",
        "  print(j)"
      ],
      "execution_count": 0,
      "outputs": []
    },
    {
      "cell_type": "code",
      "metadata": {
        "id": "WXWYluOWfccr",
        "colab_type": "code",
        "colab": {}
      },
      "source": [
        "for (index,j) in enumerate(y):\n",
        "  print(index,j)"
      ],
      "execution_count": 0,
      "outputs": []
    },
    {
      "cell_type": "code",
      "metadata": {
        "id": "_9TzMR9MfiS-",
        "colab_type": "code",
        "colab": {}
      },
      "source": [
        ""
      ],
      "execution_count": 0,
      "outputs": []
    }
  ]
}